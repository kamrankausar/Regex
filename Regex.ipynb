{
 "cells": [
  {
   "cell_type": "code",
   "execution_count": null,
   "metadata": {
    "collapsed": true
   },
   "outputs": [],
   "source": [
    "import pandas as pd\n"
   ]
  },
  {
   "cell_type": "code",
   "execution_count": null,
   "metadata": {
    "collapsed": true
   },
   "outputs": [],
   "source": [
    "#Example of Datas\n",
    "#0    XX-APR-1X 10.26.32.000000000 AM\n",
    "#1    XX-APR-1X 11.36.04.000000000 PM"
   ]
  },
  {
   "cell_type": "code",
   "execution_count": null,
   "metadata": {
    "collapsed": true
   },
   "outputs": [],
   "source": [
    "# convert to string\n",
    "df['timestamp'] = df['timestamp'].astype(str)"
   ]
  },
  {
   "cell_type": "code",
   "execution_count": null,
   "metadata": {
    "collapsed": true
   },
   "outputs": [],
   "source": [
    "# remove 9 zeros \n",
    "df['time'] = df['timestamp'].apply(lambda x: x.replace('.000000000',''))"
   ]
  },
  {
   "cell_type": "code",
   "execution_count": null,
   "metadata": {
    "collapsed": true
   },
   "outputs": [],
   "source": [
    "# output\n",
    "'XX-APR-1X 10.26.32 AM'"
   ]
  },
  {
   "cell_type": "code",
   "execution_count": null,
   "metadata": {
    "collapsed": true
   },
   "outputs": [],
   "source": [
    "# Other methods on REgrex\n",
    "# On String it apply split on the basis of space, True return pandas and n=1 gives how many time split is done \n",
    "# on the basis of space\n",
    "# input is \n",
    "XX-APR-XX 10.26.32.000000000 AM\n",
    "XX-APR-XX 11.36.04.000000000 PM\n",
    "df['date'] = df['timestamp'].str.split(' ', expand=True, n=1)\n",
    "O/P = \n",
    "XX-APR-XX 10.26.32.000000000 AM\n",
    "XX-APR-XX 11.36.04.000000000 PM"
   ]
  },
  {
   "cell_type": "code",
   "execution_count": 2,
   "metadata": {},
   "outputs": [],
   "source": [
    "# even it works in concate\n",
    "(s.str.split(' ', n = 3, expand=True)[1]).str.split('.', n = 1, expand = True)[0]\n",
    "(df['timestamp'].str.split(' ', n = 3, expand=True)[1]).str.split('.', n = 1, expand = True)[0]"
   ]
  },
  {
   "cell_type": "code",
   "execution_count": null,
   "metadata": {
    "collapsed": true
   },
   "outputs": [],
   "source": [
    "# other methods\n",
    "df['timestamp'] = df['timestamp'].str.extract(r'(\\d+)',expand=True)"
   ]
  },
  {
   "cell_type": "code",
   "execution_count": null,
   "metadata": {
    "collapsed": true
   },
   "outputs": [],
   "source": [
    "string = \"/foo13546897/bar/Atlantis-GPS-coordinates/bar457822368/foo/\"\n",
    "Expected output is :\n",
    "\n",
    "\"Atlantis-GPS-coordinates\"\n",
    ">>> string.split(\"/bar/\")[1].split(\"/\")[0]\n",
    "'Atlantis-GPS-coordinates'"
   ]
  }
 ],
 "metadata": {
  "kernelspec": {
   "display_name": "Python 3",
   "language": "python",
   "name": "python3"
  },
  "language_info": {
   "codemirror_mode": {
    "name": "ipython",
    "version": 2
   },
   "file_extension": ".py",
   "mimetype": "text/x-python",
   "name": "python",
   "nbconvert_exporter": "python",
   "pygments_lexer": "ipython2",
   "version": "2.7.12"
  }
 },
 "nbformat": 4,
 "nbformat_minor": 2
}
